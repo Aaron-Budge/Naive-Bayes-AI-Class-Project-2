{
 "cells": [
  {
   "cell_type": "code",
   "execution_count": 1,
   "id": "c0e3f21d-f303-4fb6-89c3-fd83349c8745",
   "metadata": {},
   "outputs": [],
   "source": [
    "import pandas as pd\n",
    "import numpy as np"
   ]
  },
  {
   "cell_type": "code",
   "execution_count": 3,
   "id": "91affab5-a1ff-4115-9c47-aa5bc8441f63",
   "metadata": {},
   "outputs": [],
   "source": [
    "data = pd.read_csv('data/SpotifyFeatures.csv')"
   ]
  },
  {
   "cell_type": "code",
   "execution_count": 4,
   "id": "c1113e51-b9ab-4578-9816-0620e4cb3f31",
   "metadata": {},
   "outputs": [
    {
     "data": {
      "text/plain": [
       "(232725, 18)"
      ]
     },
     "execution_count": 4,
     "metadata": {},
     "output_type": "execute_result"
    }
   ],
   "source": [
    "data.shape"
   ]
  },
  {
   "cell_type": "code",
   "execution_count": 5,
   "id": "2261b193-38fc-4e3a-91c0-f4915f471051",
   "metadata": {},
   "outputs": [
    {
     "data": {
      "text/plain": [
       "Index(['genre', 'artist_name', 'track_name', 'track_id', 'popularity',\n",
       "       'acousticness', 'danceability', 'duration_ms', 'energy',\n",
       "       'instrumentalness', 'key', 'liveness', 'loudness', 'mode',\n",
       "       'speechiness', 'tempo', 'time_signature', 'valence'],\n",
       "      dtype='object')"
      ]
     },
     "execution_count": 5,
     "metadata": {},
     "output_type": "execute_result"
    }
   ],
   "source": [
    "data.columns"
   ]
  },
  {
   "cell_type": "code",
   "execution_count": 6,
   "id": "818cd9d8-6bb5-4816-a73e-43ec0d14e597",
   "metadata": {},
   "outputs": [
    {
     "data": {
      "text/html": [
       "<div>\n",
       "<style scoped>\n",
       "    .dataframe tbody tr th:only-of-type {\n",
       "        vertical-align: middle;\n",
       "    }\n",
       "\n",
       "    .dataframe tbody tr th {\n",
       "        vertical-align: top;\n",
       "    }\n",
       "\n",
       "    .dataframe thead th {\n",
       "        text-align: right;\n",
       "    }\n",
       "</style>\n",
       "<table border=\"1\" class=\"dataframe\">\n",
       "  <thead>\n",
       "    <tr style=\"text-align: right;\">\n",
       "      <th></th>\n",
       "      <th>genre</th>\n",
       "      <th>artist_name</th>\n",
       "      <th>track_name</th>\n",
       "      <th>track_id</th>\n",
       "      <th>popularity</th>\n",
       "      <th>acousticness</th>\n",
       "      <th>danceability</th>\n",
       "      <th>duration_ms</th>\n",
       "      <th>energy</th>\n",
       "      <th>instrumentalness</th>\n",
       "      <th>key</th>\n",
       "      <th>liveness</th>\n",
       "      <th>loudness</th>\n",
       "      <th>mode</th>\n",
       "      <th>speechiness</th>\n",
       "      <th>tempo</th>\n",
       "      <th>time_signature</th>\n",
       "      <th>valence</th>\n",
       "    </tr>\n",
       "  </thead>\n",
       "  <tbody>\n",
       "    <tr>\n",
       "      <th>0</th>\n",
       "      <td>Movie</td>\n",
       "      <td>Henri Salvador</td>\n",
       "      <td>C'est beau de faire un Show</td>\n",
       "      <td>0BRjO6ga9RKCKjfDqeFgWV</td>\n",
       "      <td>0</td>\n",
       "      <td>0.611</td>\n",
       "      <td>0.389</td>\n",
       "      <td>99373</td>\n",
       "      <td>0.910</td>\n",
       "      <td>0.000</td>\n",
       "      <td>C#</td>\n",
       "      <td>0.3460</td>\n",
       "      <td>-1.828</td>\n",
       "      <td>Major</td>\n",
       "      <td>0.0525</td>\n",
       "      <td>166.969</td>\n",
       "      <td>4/4</td>\n",
       "      <td>0.814</td>\n",
       "    </tr>\n",
       "    <tr>\n",
       "      <th>1</th>\n",
       "      <td>Movie</td>\n",
       "      <td>Martin &amp; les fées</td>\n",
       "      <td>Perdu d'avance (par Gad Elmaleh)</td>\n",
       "      <td>0BjC1NfoEOOusryehmNudP</td>\n",
       "      <td>1</td>\n",
       "      <td>0.246</td>\n",
       "      <td>0.590</td>\n",
       "      <td>137373</td>\n",
       "      <td>0.737</td>\n",
       "      <td>0.000</td>\n",
       "      <td>F#</td>\n",
       "      <td>0.1510</td>\n",
       "      <td>-5.559</td>\n",
       "      <td>Minor</td>\n",
       "      <td>0.0868</td>\n",
       "      <td>174.003</td>\n",
       "      <td>4/4</td>\n",
       "      <td>0.816</td>\n",
       "    </tr>\n",
       "    <tr>\n",
       "      <th>2</th>\n",
       "      <td>Movie</td>\n",
       "      <td>Joseph Williams</td>\n",
       "      <td>Don't Let Me Be Lonely Tonight</td>\n",
       "      <td>0CoSDzoNIKCRs124s9uTVy</td>\n",
       "      <td>3</td>\n",
       "      <td>0.952</td>\n",
       "      <td>0.663</td>\n",
       "      <td>170267</td>\n",
       "      <td>0.131</td>\n",
       "      <td>0.000</td>\n",
       "      <td>C</td>\n",
       "      <td>0.1030</td>\n",
       "      <td>-13.879</td>\n",
       "      <td>Minor</td>\n",
       "      <td>0.0362</td>\n",
       "      <td>99.488</td>\n",
       "      <td>5/4</td>\n",
       "      <td>0.368</td>\n",
       "    </tr>\n",
       "    <tr>\n",
       "      <th>3</th>\n",
       "      <td>Movie</td>\n",
       "      <td>Henri Salvador</td>\n",
       "      <td>Dis-moi Monsieur Gordon Cooper</td>\n",
       "      <td>0Gc6TVm52BwZD07Ki6tIvf</td>\n",
       "      <td>0</td>\n",
       "      <td>0.703</td>\n",
       "      <td>0.240</td>\n",
       "      <td>152427</td>\n",
       "      <td>0.326</td>\n",
       "      <td>0.000</td>\n",
       "      <td>C#</td>\n",
       "      <td>0.0985</td>\n",
       "      <td>-12.178</td>\n",
       "      <td>Major</td>\n",
       "      <td>0.0395</td>\n",
       "      <td>171.758</td>\n",
       "      <td>4/4</td>\n",
       "      <td>0.227</td>\n",
       "    </tr>\n",
       "    <tr>\n",
       "      <th>4</th>\n",
       "      <td>Movie</td>\n",
       "      <td>Fabien Nataf</td>\n",
       "      <td>Ouverture</td>\n",
       "      <td>0IuslXpMROHdEPvSl1fTQK</td>\n",
       "      <td>4</td>\n",
       "      <td>0.950</td>\n",
       "      <td>0.331</td>\n",
       "      <td>82625</td>\n",
       "      <td>0.225</td>\n",
       "      <td>0.123</td>\n",
       "      <td>F</td>\n",
       "      <td>0.2020</td>\n",
       "      <td>-21.150</td>\n",
       "      <td>Major</td>\n",
       "      <td>0.0456</td>\n",
       "      <td>140.576</td>\n",
       "      <td>4/4</td>\n",
       "      <td>0.390</td>\n",
       "    </tr>\n",
       "  </tbody>\n",
       "</table>\n",
       "</div>"
      ],
      "text/plain": [
       "   genre        artist_name                        track_name  \\\n",
       "0  Movie     Henri Salvador       C'est beau de faire un Show   \n",
       "1  Movie  Martin & les fées  Perdu d'avance (par Gad Elmaleh)   \n",
       "2  Movie    Joseph Williams    Don't Let Me Be Lonely Tonight   \n",
       "3  Movie     Henri Salvador    Dis-moi Monsieur Gordon Cooper   \n",
       "4  Movie       Fabien Nataf                         Ouverture   \n",
       "\n",
       "                 track_id  popularity  acousticness  danceability  \\\n",
       "0  0BRjO6ga9RKCKjfDqeFgWV           0         0.611         0.389   \n",
       "1  0BjC1NfoEOOusryehmNudP           1         0.246         0.590   \n",
       "2  0CoSDzoNIKCRs124s9uTVy           3         0.952         0.663   \n",
       "3  0Gc6TVm52BwZD07Ki6tIvf           0         0.703         0.240   \n",
       "4  0IuslXpMROHdEPvSl1fTQK           4         0.950         0.331   \n",
       "\n",
       "   duration_ms  energy  instrumentalness key  liveness  loudness   mode  \\\n",
       "0        99373   0.910             0.000  C#    0.3460    -1.828  Major   \n",
       "1       137373   0.737             0.000  F#    0.1510    -5.559  Minor   \n",
       "2       170267   0.131             0.000   C    0.1030   -13.879  Minor   \n",
       "3       152427   0.326             0.000  C#    0.0985   -12.178  Major   \n",
       "4        82625   0.225             0.123   F    0.2020   -21.150  Major   \n",
       "\n",
       "   speechiness    tempo time_signature  valence  \n",
       "0       0.0525  166.969            4/4    0.814  \n",
       "1       0.0868  174.003            4/4    0.816  \n",
       "2       0.0362   99.488            5/4    0.368  \n",
       "3       0.0395  171.758            4/4    0.227  \n",
       "4       0.0456  140.576            4/4    0.390  "
      ]
     },
     "execution_count": 6,
     "metadata": {},
     "output_type": "execute_result"
    }
   ],
   "source": [
    "data.head()"
   ]
  },
  {
   "cell_type": "code",
   "execution_count": 13,
   "id": "d51d19e9-bb93-44ae-b51f-2698b3886d9b",
   "metadata": {},
   "outputs": [
    {
     "data": {
      "text/plain": [
       "array(['Movie', 'R&B', 'A Capella', 'Alternative', 'Country', 'Dance',\n",
       "       'Electronic', 'Anime', 'Folk', 'Blues', 'Opera', 'Hip-Hop',\n",
       "       \"Children's Music\", 'Children’s Music', 'Rap', 'Indie',\n",
       "       'Classical', 'Pop', 'Reggae', 'Reggaeton', 'Jazz', 'Rock', 'Ska',\n",
       "       'Comedy', 'Soul', 'Soundtrack', 'World'], dtype=object)"
      ]
     },
     "execution_count": 13,
     "metadata": {},
     "output_type": "execute_result"
    }
   ],
   "source": [
    "data.genre.unique()"
   ]
  },
  {
   "cell_type": "code",
   "execution_count": 16,
   "id": "b8d2f3a8-c952-4008-9ca2-6115a1174f26",
   "metadata": {},
   "outputs": [
    {
     "name": "stdout",
     "output_type": "stream",
     "text": [
      "Dataset prepared and saved as data/spotify_hits.csv\n"
     ]
    }
   ],
   "source": [
    "import pandas as pd\n",
    "\n",
    "# Load the full dataset from the original Kaggle file \"SpotifyFeatures.csv\"\n",
    "df = pd.read_csv(\"data/SpotifyFeatures.csv\")\n",
    "\n",
    "# Randomly select 500 instances using a fixed random state for reproducibility\n",
    "df_sample = df.sample(n=500, random_state=42)\n",
    "\n",
    "# Define 10 continuous numeric features to use for the model\n",
    "selected_features = [\n",
    "    'acousticness',\n",
    "    'danceability',\n",
    "    'duration_ms',\n",
    "    'energy',\n",
    "    'instrumentalness',\n",
    "    'liveness',\n",
    "    'loudness',\n",
    "    'speechiness',\n",
    "    'tempo',\n",
    "    'valence'\n",
    "]\n",
    "\n",
    "# Define additional non-numeric columns to be included (for cleaning demonstration)\n",
    "non_numeric_columns = ['genre', 'artist_name']\n",
    "\n",
    "# Create a final DataFrame that includes the 10 selected numeric features,\n",
    "# the target column 'popularity', and the two non-numeric columns.\n",
    "final_columns = non_numeric_columns + selected_features + ['popularity']\n",
    "df_final = df_sample[final_columns].reset_index(drop=True)\n",
    "\n",
    "# Save the resulting DataFrame to the \"data\" folder as \"spotify_hits.csv\"\n",
    "df_final.to_csv(\"data/spotify_hits.csv\", index=False)\n",
    "\n",
    "print(\"Dataset prepared and saved as data/spotify_hits.csv\")"
   ]
  },
  {
   "cell_type": "code",
   "execution_count": 17,
   "id": "73ea416a-46b0-4939-b55e-cb49b0ab6091",
   "metadata": {},
   "outputs": [],
   "source": [
    "df = pd.read_csv('data/spotify_hits.csv')"
   ]
  },
  {
   "cell_type": "code",
   "execution_count": 18,
   "id": "9d1efdd9-ad10-4a6c-be23-3bb7579e04ad",
   "metadata": {},
   "outputs": [
    {
     "data": {
      "text/plain": [
       "(500, 13)"
      ]
     },
     "execution_count": 18,
     "metadata": {},
     "output_type": "execute_result"
    }
   ],
   "source": [
    "df.shape"
   ]
  },
  {
   "cell_type": "code",
   "execution_count": 19,
   "id": "c4ddfdfa-4acd-4a27-bf9a-238c922d077e",
   "metadata": {},
   "outputs": [
    {
     "name": "stdout",
     "output_type": "stream",
     "text": [
      "Dataset Information:\n",
      "---------------------\n",
      "Target Column: popularity\n",
      "Feature Columns: ['genre', 'artist_name', 'acousticness', 'danceability', 'duration_ms', 'energy', 'instrumentalness', 'liveness', 'loudness', 'speechiness', 'tempo', 'valence']\n",
      "Number of Features: 12\n",
      "Number of Instances: 500\n",
      "\n",
      "Descriptive Statistics:\n",
      "       acousticness  danceability   duration_ms      energy  instrumentalness  \\\n",
      "count    500.000000    500.000000  5.000000e+02  500.000000        500.000000   \n",
      "mean       0.352944      0.555180  2.378456e+05    0.569028          0.146609   \n",
      "std        0.348895      0.190918  1.098438e+05    0.258319          0.303555   \n",
      "min        0.000005      0.062300  3.422700e+04    0.004490          0.000000   \n",
      "25%        0.036925      0.435000  1.836615e+05    0.386000          0.000000   \n",
      "50%        0.218000      0.583000  2.214425e+05    0.614500          0.000060   \n",
      "75%        0.668750      0.701000  2.682032e+05    0.768000          0.037650   \n",
      "max        0.996000      0.967000  1.257333e+06    0.987000          0.968000   \n",
      "\n",
      "         liveness    loudness  speechiness       tempo     valence  popularity  \n",
      "count  500.000000  500.000000   500.000000  500.000000  500.000000  500.000000  \n",
      "mean     0.203305   -9.522184     0.117578  117.063800    0.443347   41.706000  \n",
      "std      0.190134    5.820072     0.180237   30.937262    0.265607   18.155297  \n",
      "min      0.029300  -32.372000     0.024200   55.484000    0.028800    0.000000  \n",
      "25%      0.095125  -11.540000     0.035675   92.547750    0.208000   29.000000  \n",
      "50%      0.122000   -7.734500     0.047800  113.507000    0.429000   44.000000  \n",
      "75%      0.232250   -5.574750     0.106000  138.768750    0.662500   55.000000  \n",
      "max      0.988000   -1.184000     0.954000  204.929000    0.982000   93.000000  \n",
      "\n",
      "Data Types and Non-Null Counts:\n",
      "<class 'pandas.core.frame.DataFrame'>\n",
      "RangeIndex: 500 entries, 0 to 499\n",
      "Data columns (total 13 columns):\n",
      " #   Column            Non-Null Count  Dtype  \n",
      "---  ------            --------------  -----  \n",
      " 0   genre             500 non-null    object \n",
      " 1   artist_name       500 non-null    object \n",
      " 2   acousticness      500 non-null    float64\n",
      " 3   danceability      500 non-null    float64\n",
      " 4   duration_ms       500 non-null    int64  \n",
      " 5   energy            500 non-null    float64\n",
      " 6   instrumentalness  500 non-null    float64\n",
      " 7   liveness          500 non-null    float64\n",
      " 8   loudness          500 non-null    float64\n",
      " 9   speechiness       500 non-null    float64\n",
      " 10  tempo             500 non-null    float64\n",
      " 11  valence           500 non-null    float64\n",
      " 12  popularity        500 non-null    int64  \n",
      "dtypes: float64(9), int64(2), object(2)\n",
      "memory usage: 50.9+ KB\n",
      "None\n"
     ]
    }
   ],
   "source": [
    "import pandas as pd\n",
    "\n",
    "# Load the prepared dataset from the \"data\" folder\n",
    "df_final = pd.read_csv(\"data/spotify_hits.csv\")\n",
    "\n",
    "# Define the target column (in this dataset, 'popularity' is used as the target)\n",
    "target_name = \"popularity\"\n",
    "\n",
    "# Determine feature columns (all columns except the target)\n",
    "feature_columns = [col for col in df_final.columns if col != target_name]\n",
    "\n",
    "# Calculate the number of instances and features\n",
    "num_instances = df_final.shape[0]\n",
    "num_features = len(feature_columns)\n",
    "\n",
    "# Print dataset information\n",
    "print(\"Dataset Information:\")\n",
    "print(\"---------------------\")\n",
    "print(f\"Target Column: {target_name}\")\n",
    "print(f\"Feature Columns: {feature_columns}\")\n",
    "print(f\"Number of Features: {num_features}\")\n",
    "print(f\"Number of Instances: {num_instances}\")\n",
    "\n",
    "# Optionally, display descriptive statistics for the dataset\n",
    "print(\"\\nDescriptive Statistics:\")\n",
    "print(df_final.describe())\n",
    "\n",
    "# Optionally, display information about data types and non-null counts\n",
    "print(\"\\nData Types and Non-Null Counts:\")\n",
    "print(df_final.info())"
   ]
  },
  {
   "cell_type": "code",
   "execution_count": 20,
   "id": "cb25aed5-c71b-4c09-a7ae-90e0572229e0",
   "metadata": {},
   "outputs": [
    {
     "name": "stdout",
     "output_type": "stream",
     "text": [
      "Dataset prepared and saved as data/spotify_hits.csv\n"
     ]
    }
   ],
   "source": [
    "import pandas as pd\n",
    "import numpy as np\n",
    "import random\n",
    "\n",
    "# Load the full dataset from the original Kaggle file \"SpotifyFeatures.csv\"\n",
    "df = pd.read_csv(\"data/SpotifyFeatures.csv\")\n",
    "\n",
    "# Randomly select 510 instances for reproducibility\n",
    "df_sample = df.sample(n=510, random_state=42)\n",
    "\n",
    "# Define 10 continuous numeric features to use for the model (excluding the target 'popularity')\n",
    "selected_features = [\n",
    "    'acousticness',\n",
    "    'danceability',\n",
    "    'duration_ms',\n",
    "    'energy',\n",
    "    'instrumentalness',\n",
    "    'liveness',\n",
    "    'loudness',\n",
    "    'speechiness',\n",
    "    'tempo',\n",
    "    'valence'\n",
    "]\n",
    "\n",
    "# Define additional non-numeric columns to be included (for cleaning demonstration)\n",
    "non_numeric_columns = ['genre', 'artist_name']\n",
    "\n",
    "# Create the final DataFrame that includes:\n",
    "# - the 2 non-numeric columns,\n",
    "# - the 10 selected numeric features,\n",
    "# - and the target column 'popularity'\n",
    "final_columns = non_numeric_columns + selected_features + ['popularity']\n",
    "df_final = df_sample[final_columns].reset_index(drop=True)\n",
    "\n",
    "# Introduce missing values:\n",
    "# Randomly choose 10 unique row indices from the DataFrame\n",
    "missing_indices = random.sample(range(df_final.shape[0]), 10)\n",
    "\n",
    "# For each chosen row, randomly choose one numeric feature (from the selected_features list)\n",
    "# and set that cell to NaN.\n",
    "for idx in missing_indices:\n",
    "    col = random.choice(selected_features)\n",
    "    df_final.at[idx, col] = np.nan\n",
    "\n",
    "# Save the resulting DataFrame to the \"data\" folder as \"spotify_hits.csv\"\n",
    "df_final.to_csv(\"data/spotify_hits.csv\", index=False)\n",
    "\n",
    "print(\"Dataset prepared and saved as data/spotify_hits.csv\")"
   ]
  },
  {
   "cell_type": "code",
   "execution_count": 21,
   "id": "0bf5bfcb-6b92-42c2-988f-fe4b1b4c7e7e",
   "metadata": {},
   "outputs": [
    {
     "name": "stdout",
     "output_type": "stream",
     "text": [
      "Dataset Information:\n",
      "---------------------\n",
      "Target Column: popularity\n",
      "Feature Columns: ['genre', 'artist_name', 'acousticness', 'danceability', 'duration_ms', 'energy', 'instrumentalness', 'liveness', 'loudness', 'speechiness', 'tempo', 'valence']\n",
      "Number of Features: 12\n",
      "Number of Instances: 510\n",
      "\n",
      "Data Types and Non-Null Counts:\n",
      "<class 'pandas.core.frame.DataFrame'>\n",
      "RangeIndex: 510 entries, 0 to 509\n",
      "Data columns (total 13 columns):\n",
      " #   Column            Non-Null Count  Dtype  \n",
      "---  ------            --------------  -----  \n",
      " 0   genre             510 non-null    object \n",
      " 1   artist_name       510 non-null    object \n",
      " 2   acousticness      509 non-null    float64\n",
      " 3   danceability      506 non-null    float64\n",
      " 4   duration_ms       510 non-null    int64  \n",
      " 5   energy            510 non-null    float64\n",
      " 6   instrumentalness  510 non-null    float64\n",
      " 7   liveness          509 non-null    float64\n",
      " 8   loudness          510 non-null    float64\n",
      " 9   speechiness       508 non-null    float64\n",
      " 10  tempo             510 non-null    float64\n",
      " 11  valence           508 non-null    float64\n",
      " 12  popularity        510 non-null    int64  \n",
      "dtypes: float64(9), int64(2), object(2)\n",
      "memory usage: 51.9+ KB\n",
      "None\n"
     ]
    }
   ],
   "source": [
    "import pandas as pd\n",
    "\n",
    "# Load the prepared dataset from the \"data\" folder\n",
    "df_final = pd.read_csv(\"data/spotify_hits.csv\")\n",
    "\n",
    "# Define the target column (in this dataset, 'popularity' is used as the target)\n",
    "target_name = \"popularity\"\n",
    "\n",
    "# Determine feature columns (all columns except the target)\n",
    "feature_columns = [col for col in df_final.columns if col != target_name]\n",
    "\n",
    "# Calculate the number of instances and features\n",
    "num_instances = df_final.shape[0]\n",
    "num_features = len(feature_columns)\n",
    "\n",
    "# Print dataset information\n",
    "print(\"Dataset Information:\")\n",
    "print(\"---------------------\")\n",
    "print(f\"Target Column: {target_name}\")\n",
    "print(f\"Feature Columns: {feature_columns}\")\n",
    "print(f\"Number of Features: {num_features}\")\n",
    "print(f\"Number of Instances: {num_instances}\")\n",
    "\n",
    "# Optionally, display descriptive statistics for the dataset\n",
    "# print(\"\\nDescriptive Statistics:\")\n",
    "# print(df_final.describe())\n",
    "\n",
    "# Optionally, display information about data types and non-null counts\n",
    "print(\"\\nData Types and Non-Null Counts:\")\n",
    "print(df_final.info())"
   ]
  },
  {
   "cell_type": "code",
   "execution_count": 23,
   "id": "e6c45472-9ebb-4e9f-b34e-31ce62ae4b97",
   "metadata": {},
   "outputs": [
    {
     "data": {
      "text/plain": [
       "(510, 13)"
      ]
     },
     "execution_count": 23,
     "metadata": {},
     "output_type": "execute_result"
    }
   ],
   "source": [
    "df_final.shape"
   ]
  },
  {
   "cell_type": "code",
   "execution_count": null,
   "id": "83337fe1-5319-4770-a75c-df6dc71c97a2",
   "metadata": {},
   "outputs": [],
   "source": []
  }
 ],
 "metadata": {
  "kernelspec": {
   "display_name": "wos_data_env",
   "language": "python",
   "name": "wos_data_env"
  },
  "language_info": {
   "codemirror_mode": {
    "name": "ipython",
    "version": 3
   },
   "file_extension": ".py",
   "mimetype": "text/x-python",
   "name": "python",
   "nbconvert_exporter": "python",
   "pygments_lexer": "ipython3",
   "version": "3.12.8"
  }
 },
 "nbformat": 4,
 "nbformat_minor": 5
}
