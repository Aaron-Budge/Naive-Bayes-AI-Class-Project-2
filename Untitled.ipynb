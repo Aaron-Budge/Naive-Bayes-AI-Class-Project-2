{
 "cells": [
  {
   "cell_type": "code",
   "execution_count": 1,
   "id": "c0e3f21d-f303-4fb6-89c3-fd83349c8745",
   "metadata": {},
   "outputs": [],
   "source": [
    "import pandas as pd\n",
    "import numpy as np"
   ]
  },
  {
   "cell_type": "code",
   "execution_count": 3,
   "id": "91affab5-a1ff-4115-9c47-aa5bc8441f63",
   "metadata": {},
   "outputs": [],
   "source": [
    "data = pd.read_csv('data/SpotifyFeatures.csv')"
   ]
  },
  {
   "cell_type": "code",
   "execution_count": 4,
   "id": "c1113e51-b9ab-4578-9816-0620e4cb3f31",
   "metadata": {},
   "outputs": [
    {
     "data": {
      "text/plain": [
       "(232725, 18)"
      ]
     },
     "execution_count": 4,
     "metadata": {},
     "output_type": "execute_result"
    }
   ],
   "source": [
    "data.shape"
   ]
  },
  {
   "cell_type": "code",
   "execution_count": 5,
   "id": "2261b193-38fc-4e3a-91c0-f4915f471051",
   "metadata": {},
   "outputs": [
    {
     "data": {
      "text/plain": [
       "Index(['genre', 'artist_name', 'track_name', 'track_id', 'popularity',\n",
       "       'acousticness', 'danceability', 'duration_ms', 'energy',\n",
       "       'instrumentalness', 'key', 'liveness', 'loudness', 'mode',\n",
       "       'speechiness', 'tempo', 'time_signature', 'valence'],\n",
       "      dtype='object')"
      ]
     },
     "execution_count": 5,
     "metadata": {},
     "output_type": "execute_result"
    }
   ],
   "source": [
    "data.columns"
   ]
  },
  {
   "cell_type": "code",
   "execution_count": 6,
   "id": "818cd9d8-6bb5-4816-a73e-43ec0d14e597",
   "metadata": {},
   "outputs": [
    {
     "data": {
      "text/html": [
       "<div>\n",
       "<style scoped>\n",
       "    .dataframe tbody tr th:only-of-type {\n",
       "        vertical-align: middle;\n",
       "    }\n",
       "\n",
       "    .dataframe tbody tr th {\n",
       "        vertical-align: top;\n",
       "    }\n",
       "\n",
       "    .dataframe thead th {\n",
       "        text-align: right;\n",
       "    }\n",
       "</style>\n",
       "<table border=\"1\" class=\"dataframe\">\n",
       "  <thead>\n",
       "    <tr style=\"text-align: right;\">\n",
       "      <th></th>\n",
       "      <th>genre</th>\n",
       "      <th>artist_name</th>\n",
       "      <th>track_name</th>\n",
       "      <th>track_id</th>\n",
       "      <th>popularity</th>\n",
       "      <th>acousticness</th>\n",
       "      <th>danceability</th>\n",
       "      <th>duration_ms</th>\n",
       "      <th>energy</th>\n",
       "      <th>instrumentalness</th>\n",
       "      <th>key</th>\n",
       "      <th>liveness</th>\n",
       "      <th>loudness</th>\n",
       "      <th>mode</th>\n",
       "      <th>speechiness</th>\n",
       "      <th>tempo</th>\n",
       "      <th>time_signature</th>\n",
       "      <th>valence</th>\n",
       "    </tr>\n",
       "  </thead>\n",
       "  <tbody>\n",
       "    <tr>\n",
       "      <th>0</th>\n",
       "      <td>Movie</td>\n",
       "      <td>Henri Salvador</td>\n",
       "      <td>C'est beau de faire un Show</td>\n",
       "      <td>0BRjO6ga9RKCKjfDqeFgWV</td>\n",
       "      <td>0</td>\n",
       "      <td>0.611</td>\n",
       "      <td>0.389</td>\n",
       "      <td>99373</td>\n",
       "      <td>0.910</td>\n",
       "      <td>0.000</td>\n",
       "      <td>C#</td>\n",
       "      <td>0.3460</td>\n",
       "      <td>-1.828</td>\n",
       "      <td>Major</td>\n",
       "      <td>0.0525</td>\n",
       "      <td>166.969</td>\n",
       "      <td>4/4</td>\n",
       "      <td>0.814</td>\n",
       "    </tr>\n",
       "    <tr>\n",
       "      <th>1</th>\n",
       "      <td>Movie</td>\n",
       "      <td>Martin &amp; les fées</td>\n",
       "      <td>Perdu d'avance (par Gad Elmaleh)</td>\n",
       "      <td>0BjC1NfoEOOusryehmNudP</td>\n",
       "      <td>1</td>\n",
       "      <td>0.246</td>\n",
       "      <td>0.590</td>\n",
       "      <td>137373</td>\n",
       "      <td>0.737</td>\n",
       "      <td>0.000</td>\n",
       "      <td>F#</td>\n",
       "      <td>0.1510</td>\n",
       "      <td>-5.559</td>\n",
       "      <td>Minor</td>\n",
       "      <td>0.0868</td>\n",
       "      <td>174.003</td>\n",
       "      <td>4/4</td>\n",
       "      <td>0.816</td>\n",
       "    </tr>\n",
       "    <tr>\n",
       "      <th>2</th>\n",
       "      <td>Movie</td>\n",
       "      <td>Joseph Williams</td>\n",
       "      <td>Don't Let Me Be Lonely Tonight</td>\n",
       "      <td>0CoSDzoNIKCRs124s9uTVy</td>\n",
       "      <td>3</td>\n",
       "      <td>0.952</td>\n",
       "      <td>0.663</td>\n",
       "      <td>170267</td>\n",
       "      <td>0.131</td>\n",
       "      <td>0.000</td>\n",
       "      <td>C</td>\n",
       "      <td>0.1030</td>\n",
       "      <td>-13.879</td>\n",
       "      <td>Minor</td>\n",
       "      <td>0.0362</td>\n",
       "      <td>99.488</td>\n",
       "      <td>5/4</td>\n",
       "      <td>0.368</td>\n",
       "    </tr>\n",
       "    <tr>\n",
       "      <th>3</th>\n",
       "      <td>Movie</td>\n",
       "      <td>Henri Salvador</td>\n",
       "      <td>Dis-moi Monsieur Gordon Cooper</td>\n",
       "      <td>0Gc6TVm52BwZD07Ki6tIvf</td>\n",
       "      <td>0</td>\n",
       "      <td>0.703</td>\n",
       "      <td>0.240</td>\n",
       "      <td>152427</td>\n",
       "      <td>0.326</td>\n",
       "      <td>0.000</td>\n",
       "      <td>C#</td>\n",
       "      <td>0.0985</td>\n",
       "      <td>-12.178</td>\n",
       "      <td>Major</td>\n",
       "      <td>0.0395</td>\n",
       "      <td>171.758</td>\n",
       "      <td>4/4</td>\n",
       "      <td>0.227</td>\n",
       "    </tr>\n",
       "    <tr>\n",
       "      <th>4</th>\n",
       "      <td>Movie</td>\n",
       "      <td>Fabien Nataf</td>\n",
       "      <td>Ouverture</td>\n",
       "      <td>0IuslXpMROHdEPvSl1fTQK</td>\n",
       "      <td>4</td>\n",
       "      <td>0.950</td>\n",
       "      <td>0.331</td>\n",
       "      <td>82625</td>\n",
       "      <td>0.225</td>\n",
       "      <td>0.123</td>\n",
       "      <td>F</td>\n",
       "      <td>0.2020</td>\n",
       "      <td>-21.150</td>\n",
       "      <td>Major</td>\n",
       "      <td>0.0456</td>\n",
       "      <td>140.576</td>\n",
       "      <td>4/4</td>\n",
       "      <td>0.390</td>\n",
       "    </tr>\n",
       "  </tbody>\n",
       "</table>\n",
       "</div>"
      ],
      "text/plain": [
       "   genre        artist_name                        track_name  \\\n",
       "0  Movie     Henri Salvador       C'est beau de faire un Show   \n",
       "1  Movie  Martin & les fées  Perdu d'avance (par Gad Elmaleh)   \n",
       "2  Movie    Joseph Williams    Don't Let Me Be Lonely Tonight   \n",
       "3  Movie     Henri Salvador    Dis-moi Monsieur Gordon Cooper   \n",
       "4  Movie       Fabien Nataf                         Ouverture   \n",
       "\n",
       "                 track_id  popularity  acousticness  danceability  \\\n",
       "0  0BRjO6ga9RKCKjfDqeFgWV           0         0.611         0.389   \n",
       "1  0BjC1NfoEOOusryehmNudP           1         0.246         0.590   \n",
       "2  0CoSDzoNIKCRs124s9uTVy           3         0.952         0.663   \n",
       "3  0Gc6TVm52BwZD07Ki6tIvf           0         0.703         0.240   \n",
       "4  0IuslXpMROHdEPvSl1fTQK           4         0.950         0.331   \n",
       "\n",
       "   duration_ms  energy  instrumentalness key  liveness  loudness   mode  \\\n",
       "0        99373   0.910             0.000  C#    0.3460    -1.828  Major   \n",
       "1       137373   0.737             0.000  F#    0.1510    -5.559  Minor   \n",
       "2       170267   0.131             0.000   C    0.1030   -13.879  Minor   \n",
       "3       152427   0.326             0.000  C#    0.0985   -12.178  Major   \n",
       "4        82625   0.225             0.123   F    0.2020   -21.150  Major   \n",
       "\n",
       "   speechiness    tempo time_signature  valence  \n",
       "0       0.0525  166.969            4/4    0.814  \n",
       "1       0.0868  174.003            4/4    0.816  \n",
       "2       0.0362   99.488            5/4    0.368  \n",
       "3       0.0395  171.758            4/4    0.227  \n",
       "4       0.0456  140.576            4/4    0.390  "
      ]
     },
     "execution_count": 6,
     "metadata": {},
     "output_type": "execute_result"
    }
   ],
   "source": [
    "data.head()"
   ]
  },
  {
   "cell_type": "code",
   "execution_count": 13,
   "id": "d51d19e9-bb93-44ae-b51f-2698b3886d9b",
   "metadata": {},
   "outputs": [
    {
     "data": {
      "text/plain": [
       "array(['Movie', 'R&B', 'A Capella', 'Alternative', 'Country', 'Dance',\n",
       "       'Electronic', 'Anime', 'Folk', 'Blues', 'Opera', 'Hip-Hop',\n",
       "       \"Children's Music\", 'Children’s Music', 'Rap', 'Indie',\n",
       "       'Classical', 'Pop', 'Reggae', 'Reggaeton', 'Jazz', 'Rock', 'Ska',\n",
       "       'Comedy', 'Soul', 'Soundtrack', 'World'], dtype=object)"
      ]
     },
     "execution_count": 13,
     "metadata": {},
     "output_type": "execute_result"
    }
   ],
   "source": [
    "data.genre.unique()"
   ]
  },
  {
   "cell_type": "code",
   "execution_count": 16,
   "id": "b8d2f3a8-c952-4008-9ca2-6115a1174f26",
   "metadata": {},
   "outputs": [
    {
     "name": "stdout",
     "output_type": "stream",
     "text": [
      "Dataset prepared and saved as data/spotify_hits.csv\n"
     ]
    }
   ],
   "source": [
    "import pandas as pd\n",
    "\n",
    "# Load the full dataset from the original Kaggle file \"SpotifyFeatures.csv\"\n",
    "df = pd.read_csv(\"data/SpotifyFeatures.csv\")\n",
    "\n",
    "# Randomly select 500 instances using a fixed random state for reproducibility\n",
    "df_sample = df.sample(n=500, random_state=42)\n",
    "\n",
    "# Define 10 continuous numeric features to use for the model\n",
    "selected_features = [\n",
    "    'acousticness',\n",
    "    'danceability',\n",
    "    'duration_ms',\n",
    "    'energy',\n",
    "    'instrumentalness',\n",
    "    'liveness',\n",
    "    'loudness',\n",
    "    'speechiness',\n",
    "    'tempo',\n",
    "    'valence'\n",
    "]\n",
    "\n",
    "# Define additional non-numeric columns to be included (for cleaning demonstration)\n",
    "non_numeric_columns = ['genre', 'artist_name']\n",
    "\n",
    "# Create a final DataFrame that includes the 10 selected numeric features,\n",
    "# the target column 'popularity', and the two non-numeric columns.\n",
    "final_columns = non_numeric_columns + selected_features + ['popularity']\n",
    "df_final = df_sample[final_columns].reset_index(drop=True)\n",
    "\n",
    "# Save the resulting DataFrame to the \"data\" folder as \"spotify_hits.csv\"\n",
    "df_final.to_csv(\"data/spotify_hits.csv\", index=False)\n",
    "\n",
    "print(\"Dataset prepared and saved as data/spotify_hits.csv\")"
   ]
  },
  {
   "cell_type": "code",
   "execution_count": 17,
   "id": "73ea416a-46b0-4939-b55e-cb49b0ab6091",
   "metadata": {},
   "outputs": [],
   "source": [
    "df = pd.read_csv('data/spotify_hits.csv')"
   ]
  },
  {
   "cell_type": "code",
   "execution_count": 18,
   "id": "9d1efdd9-ad10-4a6c-be23-3bb7579e04ad",
   "metadata": {},
   "outputs": [
    {
     "data": {
      "text/plain": [
       "(500, 13)"
      ]
     },
     "execution_count": 18,
     "metadata": {},
     "output_type": "execute_result"
    }
   ],
   "source": [
    "df.shape"
   ]
  },
  {
   "cell_type": "code",
   "execution_count": 19,
   "id": "c4ddfdfa-4acd-4a27-bf9a-238c922d077e",
   "metadata": {},
   "outputs": [
    {
     "name": "stdout",
     "output_type": "stream",
     "text": [
      "Dataset Information:\n",
      "---------------------\n",
      "Target Column: popularity\n",
      "Feature Columns: ['genre', 'artist_name', 'acousticness', 'danceability', 'duration_ms', 'energy', 'instrumentalness', 'liveness', 'loudness', 'speechiness', 'tempo', 'valence']\n",
      "Number of Features: 12\n",
      "Number of Instances: 500\n",
      "\n",
      "Descriptive Statistics:\n",
      "       acousticness  danceability   duration_ms      energy  instrumentalness  \\\n",
      "count    500.000000    500.000000  5.000000e+02  500.000000        500.000000   \n",
      "mean       0.352944      0.555180  2.378456e+05    0.569028          0.146609   \n",
      "std        0.348895      0.190918  1.098438e+05    0.258319          0.303555   \n",
      "min        0.000005      0.062300  3.422700e+04    0.004490          0.000000   \n",
      "25%        0.036925      0.435000  1.836615e+05    0.386000          0.000000   \n",
      "50%        0.218000      0.583000  2.214425e+05    0.614500          0.000060   \n",
      "75%        0.668750      0.701000  2.682032e+05    0.768000          0.037650   \n",
      "max        0.996000      0.967000  1.257333e+06    0.987000          0.968000   \n",
      "\n",
      "         liveness    loudness  speechiness       tempo     valence  popularity  \n",
      "count  500.000000  500.000000   500.000000  500.000000  500.000000  500.000000  \n",
      "mean     0.203305   -9.522184     0.117578  117.063800    0.443347   41.706000  \n",
      "std      0.190134    5.820072     0.180237   30.937262    0.265607   18.155297  \n",
      "min      0.029300  -32.372000     0.024200   55.484000    0.028800    0.000000  \n",
      "25%      0.095125  -11.540000     0.035675   92.547750    0.208000   29.000000  \n",
      "50%      0.122000   -7.734500     0.047800  113.507000    0.429000   44.000000  \n",
      "75%      0.232250   -5.574750     0.106000  138.768750    0.662500   55.000000  \n",
      "max      0.988000   -1.184000     0.954000  204.929000    0.982000   93.000000  \n",
      "\n",
      "Data Types and Non-Null Counts:\n",
      "<class 'pandas.core.frame.DataFrame'>\n",
      "RangeIndex: 500 entries, 0 to 499\n",
      "Data columns (total 13 columns):\n",
      " #   Column            Non-Null Count  Dtype  \n",
      "---  ------            --------------  -----  \n",
      " 0   genre             500 non-null    object \n",
      " 1   artist_name       500 non-null    object \n",
      " 2   acousticness      500 non-null    float64\n",
      " 3   danceability      500 non-null    float64\n",
      " 4   duration_ms       500 non-null    int64  \n",
      " 5   energy            500 non-null    float64\n",
      " 6   instrumentalness  500 non-null    float64\n",
      " 7   liveness          500 non-null    float64\n",
      " 8   loudness          500 non-null    float64\n",
      " 9   speechiness       500 non-null    float64\n",
      " 10  tempo             500 non-null    float64\n",
      " 11  valence           500 non-null    float64\n",
      " 12  popularity        500 non-null    int64  \n",
      "dtypes: float64(9), int64(2), object(2)\n",
      "memory usage: 50.9+ KB\n",
      "None\n"
     ]
    }
   ],
   "source": [
    "import pandas as pd\n",
    "\n",
    "# Load the prepared dataset from the \"data\" folder\n",
    "df_final = pd.read_csv(\"data/spotify_hits.csv\")\n",
    "\n",
    "# Define the target column (in this dataset, 'popularity' is used as the target)\n",
    "target_name = \"popularity\"\n",
    "\n",
    "# Determine feature columns (all columns except the target)\n",
    "feature_columns = [col for col in df_final.columns if col != target_name]\n",
    "\n",
    "# Calculate the number of instances and features\n",
    "num_instances = df_final.shape[0]\n",
    "num_features = len(feature_columns)\n",
    "\n",
    "# Print dataset information\n",
    "print(\"Dataset Information:\")\n",
    "print(\"---------------------\")\n",
    "print(f\"Target Column: {target_name}\")\n",
    "print(f\"Feature Columns: {feature_columns}\")\n",
    "print(f\"Number of Features: {num_features}\")\n",
    "print(f\"Number of Instances: {num_instances}\")\n",
    "\n",
    "# Optionally, display descriptive statistics for the dataset\n",
    "print(\"\\nDescriptive Statistics:\")\n",
    "print(df_final.describe())\n",
    "\n",
    "# Optionally, display information about data types and non-null counts\n",
    "print(\"\\nData Types and Non-Null Counts:\")\n",
    "print(df_final.info())"
   ]
  },
  {
   "cell_type": "code",
   "execution_count": 20,
   "id": "cb25aed5-c71b-4c09-a7ae-90e0572229e0",
   "metadata": {},
   "outputs": [
    {
     "name": "stdout",
     "output_type": "stream",
     "text": [
      "Dataset prepared and saved as data/spotify_hits.csv\n"
     ]
    }
   ],
   "source": [
    "import pandas as pd\n",
    "import numpy as np\n",
    "import random\n",
    "\n",
    "# Load the full dataset from the original Kaggle file \"SpotifyFeatures.csv\"\n",
    "df = pd.read_csv(\"data/SpotifyFeatures.csv\")\n",
    "\n",
    "# Randomly select 510 instances for reproducibility\n",
    "df_sample = df.sample(n=510, random_state=42)\n",
    "\n",
    "# Define 10 continuous numeric features to use for the model (excluding the target 'popularity')\n",
    "selected_features = [\n",
    "    'acousticness',\n",
    "    'danceability',\n",
    "    'duration_ms',\n",
    "    'energy',\n",
    "    'instrumentalness',\n",
    "    'liveness',\n",
    "    'loudness',\n",
    "    'speechiness',\n",
    "    'tempo',\n",
    "    'valence'\n",
    "]\n",
    "\n",
    "# Define additional non-numeric columns to be included (for cleaning demonstration)\n",
    "non_numeric_columns = ['genre', 'artist_name']\n",
    "\n",
    "# Create the final DataFrame that includes:\n",
    "# - the 2 non-numeric columns,\n",
    "# - the 10 selected numeric features,\n",
    "# - and the target column 'popularity'\n",
    "final_columns = non_numeric_columns + selected_features + ['popularity']\n",
    "df_final = df_sample[final_columns].reset_index(drop=True)\n",
    "\n",
    "# Introduce missing values:\n",
    "# Randomly choose 10 unique row indices from the DataFrame\n",
    "missing_indices = random.sample(range(df_final.shape[0]), 10)\n",
    "\n",
    "# For each chosen row, randomly choose one numeric feature (from the selected_features list)\n",
    "# and set that cell to NaN.\n",
    "for idx in missing_indices:\n",
    "    col = random.choice(selected_features)\n",
    "    df_final.at[idx, col] = np.nan\n",
    "\n",
    "# Save the resulting DataFrame to the \"data\" folder as \"spotify_hits.csv\"\n",
    "df_final.to_csv(\"data/spotify_hits.csv\", index=False)\n",
    "\n",
    "print(\"Dataset prepared and saved as data/spotify_hits.csv\")"
   ]
  },
  {
   "cell_type": "code",
   "execution_count": 21,
   "id": "0bf5bfcb-6b92-42c2-988f-fe4b1b4c7e7e",
   "metadata": {},
   "outputs": [
    {
     "name": "stdout",
     "output_type": "stream",
     "text": [
      "Dataset Information:\n",
      "---------------------\n",
      "Target Column: popularity\n",
      "Feature Columns: ['genre', 'artist_name', 'acousticness', 'danceability', 'duration_ms', 'energy', 'instrumentalness', 'liveness', 'loudness', 'speechiness', 'tempo', 'valence']\n",
      "Number of Features: 12\n",
      "Number of Instances: 510\n",
      "\n",
      "Data Types and Non-Null Counts:\n",
      "<class 'pandas.core.frame.DataFrame'>\n",
      "RangeIndex: 510 entries, 0 to 509\n",
      "Data columns (total 13 columns):\n",
      " #   Column            Non-Null Count  Dtype  \n",
      "---  ------            --------------  -----  \n",
      " 0   genre             510 non-null    object \n",
      " 1   artist_name       510 non-null    object \n",
      " 2   acousticness      509 non-null    float64\n",
      " 3   danceability      506 non-null    float64\n",
      " 4   duration_ms       510 non-null    int64  \n",
      " 5   energy            510 non-null    float64\n",
      " 6   instrumentalness  510 non-null    float64\n",
      " 7   liveness          509 non-null    float64\n",
      " 8   loudness          510 non-null    float64\n",
      " 9   speechiness       508 non-null    float64\n",
      " 10  tempo             510 non-null    float64\n",
      " 11  valence           508 non-null    float64\n",
      " 12  popularity        510 non-null    int64  \n",
      "dtypes: float64(9), int64(2), object(2)\n",
      "memory usage: 51.9+ KB\n",
      "None\n"
     ]
    }
   ],
   "source": [
    "import pandas as pd\n",
    "\n",
    "# Load the prepared dataset from the \"data\" folder\n",
    "df_final = pd.read_csv(\"data/spotify_hits.csv\")\n",
    "\n",
    "# Define the target column (in this dataset, 'popularity' is used as the target)\n",
    "target_name = \"popularity\"\n",
    "\n",
    "# Determine feature columns (all columns except the target)\n",
    "feature_columns = [col for col in df_final.columns if col != target_name]\n",
    "\n",
    "# Calculate the number of instances and features\n",
    "num_instances = df_final.shape[0]\n",
    "num_features = len(feature_columns)\n",
    "\n",
    "# Print dataset information\n",
    "print(\"Dataset Information:\")\n",
    "print(\"---------------------\")\n",
    "print(f\"Target Column: {target_name}\")\n",
    "print(f\"Feature Columns: {feature_columns}\")\n",
    "print(f\"Number of Features: {num_features}\")\n",
    "print(f\"Number of Instances: {num_instances}\")\n",
    "\n",
    "# Optionally, display descriptive statistics for the dataset\n",
    "# print(\"\\nDescriptive Statistics:\")\n",
    "# print(df_final.describe())\n",
    "\n",
    "# Optionally, display information about data types and non-null counts\n",
    "print(\"\\nData Types and Non-Null Counts:\")\n",
    "print(df_final.info())"
   ]
  },
  {
   "cell_type": "code",
   "execution_count": 23,
   "id": "e6c45472-9ebb-4e9f-b34e-31ce62ae4b97",
   "metadata": {},
   "outputs": [
    {
     "data": {
      "text/plain": [
       "(510, 13)"
      ]
     },
     "execution_count": 23,
     "metadata": {},
     "output_type": "execute_result"
    }
   ],
   "source": [
    "df_final.shape"
   ]
  },
  {
   "cell_type": "code",
   "execution_count": 28,
   "id": "0e61f277-8091-4b5e-a817-e737e72a4acc",
   "metadata": {},
   "outputs": [],
   "source": [
    "# !pip install scikit-learn"
   ]
  },
  {
   "cell_type": "code",
   "execution_count": 34,
   "id": "83337fe1-5319-4770-a75c-df6dc71c97a2",
   "metadata": {},
   "outputs": [
    {
     "name": "stdout",
     "output_type": "stream",
     "text": [
      "data shape: (510, 13)\n"
     ]
    },
    {
     "data": {
      "text/html": [
       "<div>\n",
       "<style scoped>\n",
       "    .dataframe tbody tr th:only-of-type {\n",
       "        vertical-align: middle;\n",
       "    }\n",
       "\n",
       "    .dataframe tbody tr th {\n",
       "        vertical-align: top;\n",
       "    }\n",
       "\n",
       "    .dataframe thead th {\n",
       "        text-align: right;\n",
       "    }\n",
       "</style>\n",
       "<table border=\"1\" class=\"dataframe\">\n",
       "  <thead>\n",
       "    <tr style=\"text-align: right;\">\n",
       "      <th></th>\n",
       "      <th>genre</th>\n",
       "      <th>artist_name</th>\n",
       "      <th>acousticness</th>\n",
       "      <th>danceability</th>\n",
       "      <th>duration_ms</th>\n",
       "      <th>energy</th>\n",
       "      <th>instrumentalness</th>\n",
       "      <th>liveness</th>\n",
       "      <th>loudness</th>\n",
       "      <th>speechiness</th>\n",
       "      <th>tempo</th>\n",
       "      <th>valence</th>\n",
       "      <th>popularity</th>\n",
       "    </tr>\n",
       "  </thead>\n",
       "  <tbody>\n",
       "    <tr>\n",
       "      <th>0</th>\n",
       "      <td>Country</td>\n",
       "      <td>A Thousand Horses</td>\n",
       "      <td>0.00192</td>\n",
       "      <td>0.327</td>\n",
       "      <td>194107</td>\n",
       "      <td>0.8350</td>\n",
       "      <td>0.000150</td>\n",
       "      <td>0.1670</td>\n",
       "      <td>-4.952</td>\n",
       "      <td>0.0609</td>\n",
       "      <td>171.795</td>\n",
       "      <td>0.3850</td>\n",
       "      <td>45</td>\n",
       "    </tr>\n",
       "    <tr>\n",
       "      <th>1</th>\n",
       "      <td>Soundtrack</td>\n",
       "      <td>Mark Mothersbaugh</td>\n",
       "      <td>0.93200</td>\n",
       "      <td>0.253</td>\n",
       "      <td>102920</td>\n",
       "      <td>0.0798</td>\n",
       "      <td>0.568000</td>\n",
       "      <td>0.0906</td>\n",
       "      <td>-18.512</td>\n",
       "      <td>0.0439</td>\n",
       "      <td>110.931</td>\n",
       "      <td>0.0487</td>\n",
       "      <td>25</td>\n",
       "    </tr>\n",
       "    <tr>\n",
       "      <th>2</th>\n",
       "      <td>Reggae</td>\n",
       "      <td>Unified Highway</td>\n",
       "      <td>0.03310</td>\n",
       "      <td>0.821</td>\n",
       "      <td>225437</td>\n",
       "      <td>0.7370</td>\n",
       "      <td>0.013400</td>\n",
       "      <td>0.1320</td>\n",
       "      <td>-6.295</td>\n",
       "      <td>0.2120</td>\n",
       "      <td>137.968</td>\n",
       "      <td>0.7870</td>\n",
       "      <td>19</td>\n",
       "    </tr>\n",
       "    <tr>\n",
       "      <th>3</th>\n",
       "      <td>Electronic</td>\n",
       "      <td>Stooki Sound</td>\n",
       "      <td>0.00428</td>\n",
       "      <td>0.745</td>\n",
       "      <td>225400</td>\n",
       "      <td>0.7720</td>\n",
       "      <td>0.114000</td>\n",
       "      <td>0.0722</td>\n",
       "      <td>-3.949</td>\n",
       "      <td>0.0904</td>\n",
       "      <td>133.113</td>\n",
       "      <td>0.1700</td>\n",
       "      <td>29</td>\n",
       "    </tr>\n",
       "    <tr>\n",
       "      <th>4</th>\n",
       "      <td>Comedy</td>\n",
       "      <td>Bill Hicks</td>\n",
       "      <td>0.96500</td>\n",
       "      <td>0.502</td>\n",
       "      <td>287973</td>\n",
       "      <td>0.8040</td>\n",
       "      <td>0.000096</td>\n",
       "      <td>0.9020</td>\n",
       "      <td>-9.935</td>\n",
       "      <td>0.8070</td>\n",
       "      <td>104.576</td>\n",
       "      <td>0.1850</td>\n",
       "      <td>17</td>\n",
       "    </tr>\n",
       "  </tbody>\n",
       "</table>\n",
       "</div>"
      ],
      "text/plain": [
       "        genre        artist_name  acousticness  danceability  duration_ms  \\\n",
       "0     Country  A Thousand Horses       0.00192         0.327       194107   \n",
       "1  Soundtrack  Mark Mothersbaugh       0.93200         0.253       102920   \n",
       "2      Reggae    Unified Highway       0.03310         0.821       225437   \n",
       "3  Electronic       Stooki Sound       0.00428         0.745       225400   \n",
       "4      Comedy         Bill Hicks       0.96500         0.502       287973   \n",
       "\n",
       "   energy  instrumentalness  liveness  loudness  speechiness    tempo  \\\n",
       "0  0.8350          0.000150    0.1670    -4.952       0.0609  171.795   \n",
       "1  0.0798          0.568000    0.0906   -18.512       0.0439  110.931   \n",
       "2  0.7370          0.013400    0.1320    -6.295       0.2120  137.968   \n",
       "3  0.7720          0.114000    0.0722    -3.949       0.0904  133.113   \n",
       "4  0.8040          0.000096    0.9020    -9.935       0.8070  104.576   \n",
       "\n",
       "   valence  popularity  \n",
       "0   0.3850          45  \n",
       "1   0.0487          25  \n",
       "2   0.7870          19  \n",
       "3   0.1700          29  \n",
       "4   0.1850          17  "
      ]
     },
     "execution_count": 34,
     "metadata": {},
     "output_type": "execute_result"
    }
   ],
   "source": [
    "\"\"\"\n",
    "AI Programming Project – Naive Bayes Classifier\n",
    "University of North Dakota – CSCI 384 AI Course | Spring 2025\n",
    "\n",
    "Title: Predicting Hit Songs Using Naive Bayes\n",
    "Total Points: 100 (+10 bonus points)\n",
    "\n",
    "This is the main assignment script. You must complete each step where \"YOUR CODE HERE\" is indicated.\n",
    "Use the provided helper modules (dataset_utils.py and naive_bayes_model.py) to assist you.\n",
    "The NaiveBayesContinuous model is based on Artificial Intelligence: A Modern Approach, 4th US edition. \n",
    "GitHub repository: https://github.com/aimacode/aima-python\n",
    "\"\"\"\n",
    "\n",
    "# ---------------------------------------------------------------\n",
    "# STEP 1 [10 pts]: Load the Dataset\n",
    "# ---------------------------------------------------------------\n",
    "# - Load the CSV file 'spotify_hits.csv' (located in the 'data' folder) into a pandas DataFrame.\n",
    "# - Hint: Use the load_dataset() function from dataset_utils.py. Note that you need to import the function first.\n",
    "\n",
    "# import necessary modules and load the dataset.\n",
    "import pandas as pd\n",
    "from src.dataset_utils import load_dataset, split_dataset, DataSet\n",
    "# YOUR CODE HERE:\n",
    "\n",
    "data =  load_dataset(\"data/spotify_hits.csv\")\n",
    "\n",
    "# - Display shape of the DataFrame to understand its dimensions.\n",
    "# - Hint: Use the shape attribute to get the dimensions.\n",
    "\n",
    "print(f\"data shape: {data.shape}\")\n",
    "\n",
    "# - Displace the first few rows of the DataFrame to understand its structure.\n",
    "# - Hint: Use the head() method to display the first few rows.\n",
    "\n",
    "# YOUR CODE HERE:\n",
    "data.head()"
   ]
  },
  {
   "cell_type": "code",
   "execution_count": 35,
   "id": "0da28fa1-f4f7-403d-bce0-bd4f8e289cd7",
   "metadata": {},
   "outputs": [
    {
     "data": {
      "text/plain": [
       "array([0, 1])"
      ]
     },
     "execution_count": 35,
     "metadata": {},
     "output_type": "execute_result"
    }
   ],
   "source": [
    "# ---------------------------------------------------------------\n",
    "# STEP 2 [10 pts]: Create a Binary Target Column\n",
    "# ---------------------------------------------------------------\n",
    "# - Create a new column 'hit' from 'popularity'. A song is a hit if popularity ≥ 70; otherwise, it is not a hit.\n",
    "# - Hint: Use a lambda function to create the new column. The new column should be binary (0 for not a hit, 1 for a hit).\n",
    "\n",
    "data['hit'] = (data['popularity'] >= 70).astype(int)\n",
    "\n",
    "# - Delete the original 'popularity' column as it is no longer needed.\n",
    "# - Hint: Use the drop() method to remove the column.\n",
    "\n",
    "# YOUR CODE HERE:\n",
    "data = data.drop(columns=['popularity'])\n",
    "\n",
    "# - Display unique values of the 'hit' column to verify the transformation.\n",
    "# - Hint: Use the unique() method to display unique values.\n",
    "\n",
    "# YOUR CODE HERE:\n",
    "data['hit'].unique()"
   ]
  },
  {
   "cell_type": "code",
   "execution_count": 42,
   "id": "be7a560b-f836-48d1-8f63-63511d8e219a",
   "metadata": {},
   "outputs": [
    {
     "data": {
      "text/plain": [
       "hit\n",
       "0    491\n",
       "1     19\n",
       "Name: count, dtype: int64"
      ]
     },
     "execution_count": 42,
     "metadata": {},
     "output_type": "execute_result"
    }
   ],
   "source": [
    "data.hit.value_counts()"
   ]
  },
  {
   "cell_type": "code",
   "execution_count": 3,
   "id": "ef4c6af4-33ae-4361-92e5-683096b36f19",
   "metadata": {},
   "outputs": [
    {
     "name": "stdout",
     "output_type": "stream",
     "text": [
      "data shape: (500, 11)\n"
     ]
    }
   ],
   "source": [
    "# ---------------------------------------------------------------\n",
    "# STEP 3 [10 pts]: Preprocess the Dataset\n",
    "# ---------------------------------------------------------------\n",
    "# - Prepare the dataset for training by:\n",
    "#   1. Keeping only numeric columns.\n",
    "#   2. Removing rows with missing values.\n",
    "# - Hint: Use select_dtypes() to select numeric columns and dropna() to remove missing values.\n",
    "# - Ensure that the 'hit' column is included in the final DataFrame for target variable.\n",
    "\n",
    "# YOUR CODE HERE:\n",
    "# Select numeric columns and remove missing values.\n",
    "data = data.select_dtypes(include='number')\n",
    "data = data.dropna()\n",
    "\n",
    "# - Display shape of the DataFrame to understand its dimensions.\n",
    "# - Hint: Use the shape attribute to get the dimensions.\n",
    "\n",
    "print(f\"data shape: {data.shape}\")"
   ]
  },
  {
   "cell_type": "code",
   "execution_count": 4,
   "id": "2ad9a84c-37d0-4f24-8913-2f65a1205048",
   "metadata": {},
   "outputs": [
    {
     "name": "stdout",
     "output_type": "stream",
     "text": [
      "Train shape: (400, 11), Test shape: (100, 11)\n"
     ]
    }
   ],
   "source": [
    "# ---------------------------------------------------------------\n",
    "# STEP 4 [10 pts]: Train/Test Split\n",
    "# ---------------------------------------------------------------\n",
    "# - Split the dataset into training (80%) and testing (20%) sets.\n",
    "# - Hint: Use the split_dataset() function from dataset_utils.py.\n",
    "\n",
    "# YOUR CODE HERE:\n",
    "# Split the dataset.\n",
    "train_df, test_df = split_dataset(data, target='hit', test_size=0.2)\n",
    "\n",
    "# - Display the shape of the training and testing DataFrames.\n",
    "print(f\"Train shape: {train_df.shape}, Test shape: {test_df.shape}\") # YOUR CODE HERE"
   ]
  },
  {
   "cell_type": "code",
   "execution_count": 7,
   "id": "e40cc447-efe9-4d15-a9fe-ceb9b50af831",
   "metadata": {},
   "outputs": [],
   "source": [
    "# ---------------------------------------------------------------\n",
    "# STEP 5 [20 pts]: Train the Naive Bayes Model\n",
    "# ---------------------------------------------------------------\n",
    "# - Wrap the training DataFrame using the DataSet class (from dataset_utils.py) with 'hit' as the target.\n",
    "# - Train the NaiveBayesContinuous model (from naive_bayes_model.py) using the training DataSet.\n",
    "\n",
    "# YOUR CODE HERE:\n",
    "# Create the DataSet object and train the model. Don't forget to import the NaiveBayesContinuous class.\n",
    "from src.naive_bayes_model import NaiveBayesContinuous\n",
    "\n",
    "train_dataset = DataSet(train_df, target='hit')\n",
    "model = NaiveBayesContinuous(train_dataset)"
   ]
  },
  {
   "cell_type": "code",
   "execution_count": 12,
   "id": "40aff4d1-6145-436b-9d93-278dd1bb7a17",
   "metadata": {},
   "outputs": [
    {
     "name": "stdout",
     "output_type": "stream",
     "text": [
      "Model accuracy: 0.62\n"
     ]
    }
   ],
   "source": [
    "# ---------------------------------------------------------------\n",
    "# STEP 6 [15 pts]: Make Predictions and Evaluate\n",
    "# ---------------------------------------------------------------\n",
    "# - For each song in the test set, extract its features (all columns except 'hit') as a dictionary.\n",
    "# - Use the trained model to predict the label.\n",
    "# - Compare the prediction to the true 'hit' value and compute the overall accuracy.\n",
    "# - Hint: Use the predict() method of the model to get the predicted label.\n",
    "# - Accuracy = (Number of correct predictions) / (Total number of predictions)\n",
    "\n",
    "# YOUR CODE HERE:\n",
    "# Write your loop to predict and calculate accuracy.\n",
    "correct = 0\n",
    "total = len(test_df)\n",
    "for index, row in test_df.iterrows():\n",
    "    features = row.drop('hit').to_dict()\n",
    "    true_label = row['hit']\n",
    "    predicted_label = model(features)\n",
    "    if predicted_label == true_label:\n",
    "        correct += 1\n",
    "accuracy = correct / total\n",
    "print(f\"Model accuracy: {accuracy:.2f}\")"
   ]
  },
  {
   "cell_type": "code",
   "execution_count": 23,
   "id": "89baab8f-de25-4f2c-9d15-82b5acaa3011",
   "metadata": {},
   "outputs": [
    {
     "name": "stdout",
     "output_type": "stream",
     "text": [
      "Correlation of features with 'hit':\n",
      "hit                 1.000000\n",
      "danceability        0.176585\n",
      "acousticness        0.107398\n",
      "instrumentalness    0.084207\n",
      "loudness            0.065228\n",
      "duration_ms         0.056837\n",
      "liveness            0.035936\n",
      "speechiness         0.025419\n",
      "tempo               0.023465\n",
      "valence             0.008413\n",
      "energy              0.005618\n",
      "Name: hit, dtype: float64\n"
     ]
    }
   ],
   "source": [
    "# ---------------------------------------------------------------\n",
    "# STEP 7 [15 pts]: Answer Conceptual Questions\n",
    "# ---------------------------------------------------------------\n",
    "# For each question, assign your answer (as a capital letter \"A\", \"B\", \"C\", or \"D\")\n",
    "# to the corresponding variable.\n",
    "#\n",
    "# Q1 [5 pts]: Which features are most likely to influence whether a song is a hit?\n",
    "#   A. track_id and duration_ms\n",
    "#   B. danceability, acousticness, and instrumentalness\n",
    "#   C. popularity and tempo\n",
    "#   D. artist name and genre\n",
    "\n",
    "# Hint: Correlation analysis can help identify influential features. Sort descending by correlation with the target variable. Target variable has correlation of 1.0.\n",
    "\n",
    "# YOUR CODE HERE:\n",
    "correlations = train_df.corr()['hit'].abs().sort_values(ascending=False)\n",
    "print(\"Correlation of features with 'hit':\")\n",
    "print(correlations)\n",
    "\n",
    "q1_answer = \"B\"  # YOUR ANSWER HERE"
   ]
  },
  {
   "cell_type": "code",
   "execution_count": 24,
   "id": "064d5d55-c0a2-4e24-a2d4-2258ecf51531",
   "metadata": {},
   "outputs": [],
   "source": [
    "# Q2 [5 pts]: What assumption does the Naive Bayes model make about the input features?\n",
    "#   A. They follow a uniform distribution.\n",
    "#   B. They are normally distributed.\n",
    "#   C. They are independent given the target class.\n",
    "#   D. They are weighted by importance.\n",
    "# Hint: Refer to the Naive Bayes assumption of conditional independence. Ref: https://en.wikipedia.org/wiki/Naive_Bayes_classifier\n",
    "q2_answer = \"C\"  # YOUR ANSWER HERE"
   ]
  },
  {
   "cell_type": "code",
   "execution_count": 26,
   "id": "9d554eee-1667-4fce-91c6-c40c10415206",
   "metadata": {},
   "outputs": [],
   "source": [
    "# Q3 [5 pts]: What is a likely difference if a decision tree is used instead of Naive Bayes?\n",
    "#   A. The model will assume independence of features.\n",
    "#   B. The model will assign probabilities instead of decision rules.\n",
    "#   C. The model will create splits based on feature thresholds.\n",
    "#   D. The model will always perform worse.\n",
    "# Hint: Consider how decision trees work compared to Naive Bayes. Ref: https://en.wikipedia.org/wiki/Decision_tree_learning\n",
    "q3_answer = \"C\"  # YOUR ANSWER HERE"
   ]
  },
  {
   "cell_type": "code",
   "execution_count": 28,
   "id": "fe5d2430-8761-4abd-9122-77afa4c2f801",
   "metadata": {},
   "outputs": [
    {
     "name": "stdout",
     "output_type": "stream",
     "text": [
      "Confusion Matrix:\n",
      "[[57 37]\n",
      " [ 1  5]]\n"
     ]
    }
   ],
   "source": [
    "# ---------------------------------------------------------------\n",
    "# BONUS SECTION: Advanced Analysis [10 bonus pts]\n",
    "# ---------------------------------------------------------------\n",
    "# BONUS Task 1 [6 pts]:\n",
    "# - Compute and display a confusion matrix comparing the true labels to your model's predictions.\n",
    "# - Hint: You may use sklearn.metrics.confusion_matrix. Ref: https://scikit-learn.org/stable/modules/generated/sklearn.metrics.confusion_matrix.html\n",
    "\n",
    "from sklearn.metrics import confusion_matrix\n",
    "# YOUR CODE HERE:\n",
    "y_true = test_df['hit'].tolist()\n",
    "y_pred = [model(row.drop('hit').to_dict()) for index, row in test_df.iterrows()]\n",
    "cm = confusion_matrix(y_true, y_pred)\n",
    "print(\"Confusion Matrix:\")\n",
    "print(cm)"
   ]
  },
  {
   "cell_type": "code",
   "execution_count": 31,
   "id": "feac9e3f-e5f4-4213-8403-084ed67de6da",
   "metadata": {},
   "outputs": [
    {
     "name": "stdout",
     "output_type": "stream",
     "text": [
      "Best threshold: 80, Best accuracy: 0.99\n"
     ]
    }
   ],
   "source": [
    "# BONUS Task 2 [4 pts]:\n",
    "# - Experiment with different thresholds for defining a hit (e.g., popularity ≥ 65, 75, or 80).\n",
    "# - Determine which threshold gives the best model accuracy.\n",
    "# - Report your best threshold and the corresponding accuracy.\n",
    "best_threshold = 80  # YOUR BEST THRESHOLD HERE\n",
    "best_accuracy = 0.99  # YOUR BEST ACCURACY HERE (update after testing)\n",
    "print(f\"Best threshold: {best_threshold}, Best accuracy: {best_accuracy:.2f}\")"
   ]
  },
  {
   "cell_type": "code",
   "execution_count": 30,
   "id": "63040750-6d01-4227-8aca-1eaebf6af0df",
   "metadata": {},
   "outputs": [
    {
     "name": "stdout",
     "output_type": "stream",
     "text": [
      "Threshold results:\n",
      "Threshold: 65, Accuracy: 0.84\n",
      "Threshold: 70, Accuracy: 0.92\n",
      "Threshold: 75, Accuracy: 0.95\n",
      "Threshold: 80, Accuracy: 0.99\n",
      "Best threshold: 80 with accuracy: 0.99\n"
     ]
    }
   ],
   "source": [
    "import pandas as pd\n",
    "from src.dataset_utils import load_dataset, split_dataset, DataSet\n",
    "from src.naive_bayes_model import NaiveBayesContinuous\n",
    "\n",
    "# Load and preprocess the dataset\n",
    "data = load_dataset(\"data/spotify_hits.csv\")\n",
    "data = data.select_dtypes(include='number').dropna()\n",
    "\n",
    "# List of thresholds to test\n",
    "thresholds = [65, 70, 75, 80]\n",
    "results = {}\n",
    "\n",
    "for threshold in thresholds:\n",
    "    # Create a copy and set the binary target based on the current threshold\n",
    "    df = data.copy()\n",
    "    df['hit'] = (df['popularity'] >= threshold).astype(int)\n",
    "    \n",
    "    # Split the data\n",
    "    train_df, test_df = split_dataset(df, target='hit', test_size=0.2)\n",
    "    train_dataset = DataSet(train_df, target='hit')\n",
    "    \n",
    "    # Train the Naive Bayes model\n",
    "    model = NaiveBayesContinuous(train_dataset)\n",
    "    \n",
    "    # Evaluate the model\n",
    "    correct = 0\n",
    "    total = len(test_df)\n",
    "    for index, row in test_df.iterrows():\n",
    "        features = row.drop('hit').to_dict()\n",
    "        true_label = row['hit']\n",
    "        predicted_label = model(features)\n",
    "        if predicted_label == true_label:\n",
    "            correct += 1\n",
    "    accuracy = correct / total\n",
    "    results[threshold] = accuracy\n",
    "\n",
    "# Determine the best threshold based on accuracy\n",
    "best_threshold = max(results, key=results.get)\n",
    "best_accuracy = results[best_threshold]\n",
    "\n",
    "print(\"Threshold results:\")\n",
    "for t, acc in results.items():\n",
    "    print(f\"Threshold: {t}, Accuracy: {acc:.2f}\")\n",
    "print(f\"Best threshold: {best_threshold} with accuracy: {best_accuracy:.2f}\")"
   ]
  },
  {
   "cell_type": "code",
   "execution_count": 32,
   "id": "f63db000-3e46-42b5-98fe-8310ef8032c5",
   "metadata": {},
   "outputs": [
    {
     "data": {
      "text/html": [
       "<div>\n",
       "<style scoped>\n",
       "    .dataframe tbody tr th:only-of-type {\n",
       "        vertical-align: middle;\n",
       "    }\n",
       "\n",
       "    .dataframe tbody tr th {\n",
       "        vertical-align: top;\n",
       "    }\n",
       "\n",
       "    .dataframe thead th {\n",
       "        text-align: right;\n",
       "    }\n",
       "</style>\n",
       "<table border=\"1\" class=\"dataframe\">\n",
       "  <thead>\n",
       "    <tr style=\"text-align: right;\">\n",
       "      <th></th>\n",
       "      <th>acousticness</th>\n",
       "      <th>danceability</th>\n",
       "      <th>duration_ms</th>\n",
       "      <th>energy</th>\n",
       "      <th>instrumentalness</th>\n",
       "      <th>liveness</th>\n",
       "      <th>loudness</th>\n",
       "      <th>speechiness</th>\n",
       "      <th>tempo</th>\n",
       "      <th>valence</th>\n",
       "      <th>popularity</th>\n",
       "    </tr>\n",
       "  </thead>\n",
       "  <tbody>\n",
       "    <tr>\n",
       "      <th>0</th>\n",
       "      <td>0.00192</td>\n",
       "      <td>0.327</td>\n",
       "      <td>194107</td>\n",
       "      <td>0.8350</td>\n",
       "      <td>0.000150</td>\n",
       "      <td>0.1670</td>\n",
       "      <td>-4.952</td>\n",
       "      <td>0.0609</td>\n",
       "      <td>171.795</td>\n",
       "      <td>0.3850</td>\n",
       "      <td>45</td>\n",
       "    </tr>\n",
       "    <tr>\n",
       "      <th>1</th>\n",
       "      <td>0.93200</td>\n",
       "      <td>0.253</td>\n",
       "      <td>102920</td>\n",
       "      <td>0.0798</td>\n",
       "      <td>0.568000</td>\n",
       "      <td>0.0906</td>\n",
       "      <td>-18.512</td>\n",
       "      <td>0.0439</td>\n",
       "      <td>110.931</td>\n",
       "      <td>0.0487</td>\n",
       "      <td>25</td>\n",
       "    </tr>\n",
       "    <tr>\n",
       "      <th>2</th>\n",
       "      <td>0.03310</td>\n",
       "      <td>0.821</td>\n",
       "      <td>225437</td>\n",
       "      <td>0.7370</td>\n",
       "      <td>0.013400</td>\n",
       "      <td>0.1320</td>\n",
       "      <td>-6.295</td>\n",
       "      <td>0.2120</td>\n",
       "      <td>137.968</td>\n",
       "      <td>0.7870</td>\n",
       "      <td>19</td>\n",
       "    </tr>\n",
       "    <tr>\n",
       "      <th>3</th>\n",
       "      <td>0.00428</td>\n",
       "      <td>0.745</td>\n",
       "      <td>225400</td>\n",
       "      <td>0.7720</td>\n",
       "      <td>0.114000</td>\n",
       "      <td>0.0722</td>\n",
       "      <td>-3.949</td>\n",
       "      <td>0.0904</td>\n",
       "      <td>133.113</td>\n",
       "      <td>0.1700</td>\n",
       "      <td>29</td>\n",
       "    </tr>\n",
       "    <tr>\n",
       "      <th>4</th>\n",
       "      <td>0.96500</td>\n",
       "      <td>0.502</td>\n",
       "      <td>287973</td>\n",
       "      <td>0.8040</td>\n",
       "      <td>0.000096</td>\n",
       "      <td>0.9020</td>\n",
       "      <td>-9.935</td>\n",
       "      <td>0.8070</td>\n",
       "      <td>104.576</td>\n",
       "      <td>0.1850</td>\n",
       "      <td>17</td>\n",
       "    </tr>\n",
       "  </tbody>\n",
       "</table>\n",
       "</div>"
      ],
      "text/plain": [
       "   acousticness  danceability  duration_ms  energy  instrumentalness  \\\n",
       "0       0.00192         0.327       194107  0.8350          0.000150   \n",
       "1       0.93200         0.253       102920  0.0798          0.568000   \n",
       "2       0.03310         0.821       225437  0.7370          0.013400   \n",
       "3       0.00428         0.745       225400  0.7720          0.114000   \n",
       "4       0.96500         0.502       287973  0.8040          0.000096   \n",
       "\n",
       "   liveness  loudness  speechiness    tempo  valence  popularity  \n",
       "0    0.1670    -4.952       0.0609  171.795   0.3850          45  \n",
       "1    0.0906   -18.512       0.0439  110.931   0.0487          25  \n",
       "2    0.1320    -6.295       0.2120  137.968   0.7870          19  \n",
       "3    0.0722    -3.949       0.0904  133.113   0.1700          29  \n",
       "4    0.9020    -9.935       0.8070  104.576   0.1850          17  "
      ]
     },
     "execution_count": 32,
     "metadata": {},
     "output_type": "execute_result"
    }
   ],
   "source": [
    "data.head()"
   ]
  },
  {
   "cell_type": "code",
   "execution_count": null,
   "id": "7e16223d-397c-4f28-b423-60c70a3daa29",
   "metadata": {},
   "outputs": [],
   "source": []
  }
 ],
 "metadata": {
  "kernelspec": {
   "display_name": "wos_data_env",
   "language": "python",
   "name": "wos_data_env"
  },
  "language_info": {
   "codemirror_mode": {
    "name": "ipython",
    "version": 3
   },
   "file_extension": ".py",
   "mimetype": "text/x-python",
   "name": "python",
   "nbconvert_exporter": "python",
   "pygments_lexer": "ipython3",
   "version": "3.12.8"
  }
 },
 "nbformat": 4,
 "nbformat_minor": 5
}
